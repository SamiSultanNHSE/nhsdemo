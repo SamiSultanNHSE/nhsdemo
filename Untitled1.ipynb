{
  "nbformat": 4,
  "nbformat_minor": 0,
  "metadata": {
    "colab": {
      "provenance": [],
      "authorship_tag": "ABX9TyMPHoZ/AAnwHvdyGIksKX8J",
      "include_colab_link": true
    },
    "kernelspec": {
      "name": "python3",
      "display_name": "Python 3"
    },
    "language_info": {
      "name": "python"
    }
  },
  "cells": [
    {
      "cell_type": "markdown",
      "metadata": {
        "id": "view-in-github",
        "colab_type": "text"
      },
      "source": [
        "<a href=\"https://colab.research.google.com/github/SamiSultanNHSE/nhsdemo/blob/main/Untitled1.ipynb\" target=\"_parent\"><img src=\"https://colab.research.google.com/assets/colab-badge.svg\" alt=\"Open In Colab\"/></a>"
      ]
    },
    {
      "cell_type": "code",
      "execution_count": null,
      "metadata": {
        "colab": {
          "base_uri": "https://localhost:8080/"
        },
        "id": "9aYhjzGDqVyW",
        "outputId": "2eaf6184-b05b-488c-ae34-3658fd5348e6"
      },
      "outputs": [
        {
          "name": "stdout",
          "output_type": "stream",
          "text": [
            "What is your nameSami\n"
          ]
        }
      ],
      "source": [
        "name = input(\"What is your name\")"
      ]
    },
    {
      "cell_type": "code",
      "source": [
        "age = 29\n",
        "print(f\"I am {age} and my name is {name}\")"
      ],
      "metadata": {
        "colab": {
          "base_uri": "https://localhost:8080/"
        },
        "id": "sbhp7eCAt0_g",
        "outputId": "c8a53677-e8a1-408b-97d2-8bd1e4de918f"
      },
      "execution_count": null,
      "outputs": [
        {
          "output_type": "stream",
          "name": "stdout",
          "text": [
            "I am 29 and my name is Sami\n"
          ]
        }
      ]
    },
    {
      "cell_type": "code",
      "source": [],
      "metadata": {
        "id": "bVAyNYtTvMTz"
      },
      "execution_count": null,
      "outputs": []
    }
  ]
}